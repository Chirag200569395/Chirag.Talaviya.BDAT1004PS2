{
 "cells": [
  {
   "cell_type": "markdown",
   "id": "d4691df7",
   "metadata": {},
   "source": [
    "# Question-1"
   ]
  },
  {
   "cell_type": "code",
   "execution_count": 1,
   "id": "274799cd",
   "metadata": {},
   "outputs": [],
   "source": [
    "a = 0\n",
    "def b():\n",
    "    global a\n",
    "    a = c(a)\n",
    "def c(a):\n",
    "    return a + 2"
   ]
  },
  {
   "cell_type": "code",
   "execution_count": 2,
   "id": "02f2b255",
   "metadata": {},
   "outputs": [],
   "source": [
    "b()"
   ]
  },
  {
   "cell_type": "code",
   "execution_count": 3,
   "id": "7b9d7aee",
   "metadata": {},
   "outputs": [],
   "source": [
    "b()"
   ]
  },
  {
   "cell_type": "code",
   "execution_count": 4,
   "id": "0e2d0c8b",
   "metadata": {},
   "outputs": [],
   "source": [
    "b()"
   ]
  },
  {
   "cell_type": "code",
   "execution_count": 5,
   "id": "2a6b983a",
   "metadata": {},
   "outputs": [
    {
     "data": {
      "text/plain": [
       "6"
      ]
     },
     "execution_count": 5,
     "metadata": {},
     "output_type": "execute_result"
    }
   ],
   "source": [
    "a"
   ]
  },
  {
   "cell_type": "markdown",
   "id": "f858ddc4",
   "metadata": {},
   "source": [
    "#EXPLANATION OF EACH STATEMENT\n",
    "\n",
    "we have declared variable 'a' as a global variable.\n",
    "\n",
    "So every time we are calling method b() it will call method c() and c will return a+2, which will get stored in a.\n",
    "\n",
    "So here we are calling b() methods 3 times. so the answer will be 6."
   ]
  },
  {
   "cell_type": "markdown",
   "id": "09625868",
   "metadata": {},
   "source": [
    "# Question-2"
   ]
  },
  {
   "cell_type": "code",
   "execution_count": 6,
   "id": "0dbcdf26",
   "metadata": {},
   "outputs": [
    {
     "name": "stdout",
     "output_type": "stream",
     "text": [
      "5346\n"
     ]
    }
   ],
   "source": [
    "def fileLength(file_name):\n",
    "    try:\n",
    "        file = open(file_name)\n",
    "        contents = file.read()\n",
    "        file.close()\n",
    "        print(len(contents))\n",
    "    except:\n",
    "        print(\"file \"+file_name +\" not found\")\n",
    "fileLength('words.txt') "
   ]
  },
  {
   "cell_type": "code",
   "execution_count": 7,
   "id": "8bb549a1",
   "metadata": {},
   "outputs": [
    {
     "name": "stdout",
     "output_type": "stream",
     "text": [
      "file word.txt not found\n"
     ]
    }
   ],
   "source": [
    "fileLength('word.txt') "
   ]
  },
  {
   "cell_type": "markdown",
   "id": "59b91974",
   "metadata": {},
   "source": [
    "# Question-3"
   ]
  },
  {
   "cell_type": "code",
   "execution_count": 8,
   "id": "9e96e350",
   "metadata": {},
   "outputs": [
    {
     "name": "stdout",
     "output_type": "stream",
     "text": [
      "['doll', 'firetruck', 'kitten']\n"
     ]
    }
   ],
   "source": [
    "class Marsupial:\n",
    "    \n",
    "    def __init__(self):\n",
    "        self.content = []\n",
    "    \n",
    "    def put_in_pouch(self,a):\n",
    "        self.content.append(a)\n",
    "    \n",
    "    def pouch_contents(self):\n",
    "        print(self.content)\n",
    "    \n",
    "m = Marsupial()\n",
    "m.put_in_pouch('doll')\n",
    "m.put_in_pouch('firetruck')\n",
    "m.put_in_pouch('kitten')\n",
    "m.pouch_contents() "
   ]
  },
  {
   "cell_type": "code",
   "execution_count": 9,
   "id": "681cf3af",
   "metadata": {},
   "outputs": [
    {
     "name": "stdout",
     "output_type": "stream",
     "text": [
      "I am a kangaroo located at coordinates(0,0)\n"
     ]
    }
   ],
   "source": [
    "class Kangaroo(Marsupial):\n",
    "    \n",
    "    def __init__(self,x=0,y=0):\n",
    "        Marsupial.__init__(self)\n",
    "        self.x=x\n",
    "        self.y=y\n",
    "    \n",
    "    def jump(self,dx,dy):\n",
    "        self.x = self.x + dx\n",
    "        self.y = self.y + dy\n",
    "        \n",
    "    def __str__(self):\n",
    "        rtn_str=\"I am a kangaroo located at coordinates(\"+str(self.x)+\",\"+str(self.y)+\")\"\n",
    "        return rtn_str\n",
    "    \n",
    "        \n",
    "k = Kangaroo(0,0)\n",
    "print(k)"
   ]
  },
  {
   "cell_type": "code",
   "execution_count": 10,
   "id": "f7bd8e65",
   "metadata": {},
   "outputs": [
    {
     "name": "stdout",
     "output_type": "stream",
     "text": [
      "['doll', 'firetruck', 'kitten']\n",
      "I am a kangaroo located at coordinates(3,0)\n"
     ]
    }
   ],
   "source": [
    "k.put_in_pouch('doll')\n",
    "k.put_in_pouch('firetruck')\n",
    "k.put_in_pouch('kitten')\n",
    "k.pouch_contents()\n",
    "['doll', 'firetruck', 'kitten']   \n",
    "k.jump(1,0)\n",
    "k.jump(1,0)\n",
    "k.jump(1,0)\n",
    "print(k)"
   ]
  },
  {
   "cell_type": "markdown",
   "id": "09a4a6e6",
   "metadata": {},
   "source": [
    "# Question-4"
   ]
  },
  {
   "cell_type": "code",
   "execution_count": 14,
   "id": "56d73791",
   "metadata": {},
   "outputs": [
    {
     "name": "stdout",
     "output_type": "stream",
     "text": [
      "8\n",
      "4\n",
      "2\n",
      "1\n"
     ]
    }
   ],
   "source": [
    "def collatz(x):\n",
    "    \n",
    "    if(x==1):\n",
    "        print(int(x))\n",
    "    elif((x%2)==0):\n",
    "        print(int(x))\n",
    "        collatz(x/2)\n",
    "    else:\n",
    "        print(int(x))\n",
    "        collatz(3*x+1)\n",
    "\n",
    "        \n",
    "collatz(8) "
   ]
  },
  {
   "cell_type": "code",
   "execution_count": 16,
   "id": "c7abdcf4",
   "metadata": {},
   "outputs": [
    {
     "name": "stdout",
     "output_type": "stream",
     "text": [
      "17\n",
      "52\n",
      "26\n",
      "13\n",
      "40\n",
      "20\n",
      "10\n",
      "5\n",
      "16\n",
      "8\n",
      "4\n",
      "2\n",
      "1\n"
     ]
    }
   ],
   "source": [
    "collatz(17) "
   ]
  },
  {
   "cell_type": "markdown",
   "id": "a79b072a",
   "metadata": {},
   "source": [
    "# Question-5"
   ]
  },
  {
   "cell_type": "code",
   "execution_count": 20,
   "id": "6d1b0c03",
   "metadata": {},
   "outputs": [],
   "source": [
    "def binary(x):\n",
    "    if(x==0 or x==1):\n",
    "        print(x)\n",
    "    else:\n",
    "        print(x%2,end=\"\")\n",
    "        binary(x//2)"
   ]
  },
  {
   "cell_type": "code",
   "execution_count": 21,
   "id": "47942d9a",
   "metadata": {},
   "outputs": [
    {
     "name": "stdout",
     "output_type": "stream",
     "text": [
      "0\n"
     ]
    }
   ],
   "source": [
    "binary(0)"
   ]
  },
  {
   "cell_type": "code",
   "execution_count": 22,
   "id": "2db17985",
   "metadata": {},
   "outputs": [
    {
     "name": "stdout",
     "output_type": "stream",
     "text": [
      "1\n"
     ]
    }
   ],
   "source": [
    "binary(1)"
   ]
  },
  {
   "cell_type": "code",
   "execution_count": 23,
   "id": "d2b72b31",
   "metadata": {},
   "outputs": [
    {
     "name": "stdout",
     "output_type": "stream",
     "text": [
      "11\n"
     ]
    }
   ],
   "source": [
    "binary(3)"
   ]
  },
  {
   "cell_type": "code",
   "execution_count": 24,
   "id": "bc482e0c",
   "metadata": {},
   "outputs": [
    {
     "name": "stdout",
     "output_type": "stream",
     "text": [
      "1001\n"
     ]
    }
   ],
   "source": [
    "binary(9)"
   ]
  },
  {
   "cell_type": "markdown",
   "id": "c655cda7",
   "metadata": {},
   "source": [
    "# Question-6"
   ]
  },
  {
   "cell_type": "code",
   "execution_count": 33,
   "id": "431c767d",
   "metadata": {},
   "outputs": [],
   "source": [
    "from html.parser import HTMLParser\n",
    "class HeadingParser(HTMLParser):\n",
    "    \n",
    "    def __init__(self):\n",
    "        self.flag = False\n",
    "        HTMLParser.__init__(self)\n",
    "        self.start_tags=[]\n",
    "        self.heading_data=[]\n",
    "\n",
    "    def feed(self,filename):\n",
    "        infile = open('w3c.html') \n",
    "        content = infile.read() \n",
    "        infile.close()\n",
    "        HTMLParser.feed(self,content)\n",
    "        self.print_details()\n",
    "        \n",
    "    def handle_starttag(self, tag, attrs):\n",
    "        if tag == 'h1':\n",
    "            self.flag=True\n",
    "            self.start_tags.append(0)\n",
    "        if tag == 'h2':\n",
    "            self.flag=True\n",
    "            self.start_tags.append(1)\n",
    "        if tag == 'h3':\n",
    "            self.flag=True\n",
    "            self.start_tags.append(2)\n",
    "        if tag == 'h4':\n",
    "            self.flag=True\n",
    "            self.start_tags.append(3)\n",
    "        if tag == 'h5':\n",
    "            self.flag=True\n",
    "            self.start_tags.append(4)\n",
    "        if tag == 'h6':\n",
    "            self.flag=True\n",
    "            self.start_tags.append(5)\n",
    "        \n",
    "            \n",
    "    def handle_data(self, data):\n",
    "        global heading_data\n",
    "        if self.flag == True:\n",
    "            self.flag=False\n",
    "            self.heading_data.append(data)\n",
    "            \n",
    "    def print_details(self):\n",
    "        for i in self.start_tags:\n",
    "            print('\\t'*i + self.heading_data[i])"
   ]
  },
  {
   "cell_type": "code",
   "execution_count": 34,
   "id": "309b7082",
   "metadata": {},
   "outputs": [
    {
     "name": "stdout",
     "output_type": "stream",
     "text": [
      "W3C Mission\n",
      "\tPrinciples\n"
     ]
    }
   ],
   "source": [
    "headingParser = HeadingParser() \n",
    "headingParser.feed('w3c.html')"
   ]
  },
  {
   "cell_type": "markdown",
   "id": "fdb416cc",
   "metadata": {},
   "source": [
    "# Question-7"
   ]
  },
  {
   "cell_type": "code",
   "execution_count": 35,
   "id": "3e5bd725",
   "metadata": {},
   "outputs": [],
   "source": [
    "from urllib.parse import urljoin\n",
    "from html.parser import HTMLParser\n",
    "from urllib.request import urlopen\n",
    "\n",
    "class Collector(HTMLParser):\n",
    "    'collects hyperlink URLs into a list'\n",
    "\n",
    "    def __init__(self, url):\n",
    "        'initializes parser, the url, and a list'\n",
    "        HTMLParser.__init__(self)\n",
    "        self.url = url\n",
    "        self.links = []\n",
    "\n",
    "    \n",
    "    def handle_starttag(self, tag, attrs):\n",
    "        'collects hyperlink URLs in their absolute format'\n",
    "        if tag == 'a':\n",
    "            for attr in attrs:\n",
    "                if attr[0] == 'href':\n",
    "                    # construct absolute URL\n",
    "                    absolute = urljoin(self.url, attr[1])\n",
    "                    if absolute[:4] == 'http': # collect HTTP URLs\n",
    "                        self.links.append(absolute)\n",
    "                        \n",
    "    def getLinks(self):\n",
    "        'returns hyperlinks URLs in their absolute format'\n",
    "        return self.links"
   ]
  },
  {
   "cell_type": "code",
   "execution_count": 39,
   "id": "3e9e16b8",
   "metadata": {},
   "outputs": [],
   "source": [
    "visited = set()\n",
    "urls=[]\n",
    "def webdir(url,depth,indent):\n",
    "    global visited\n",
    "    print((\"\\t\"*indent)+url)\n",
    "    for deep in range(depth):\n",
    "        visited.add(url)\n",
    "        resource = urlopen(url)\n",
    "        content = resource.read().decode()\n",
    "        collector = Collector(url)\n",
    "        collector.feed(content)\n",
    "        urls=collector.getLinks()\n",
    "        for nesturl in urls:\n",
    "            if nesturl not in visited:\n",
    "                webdir(nesturl,depth-1,indent+1)"
   ]
  },
  {
   "cell_type": "code",
   "execution_count": 41,
   "id": "fb0bb7f0",
   "metadata": {},
   "outputs": [
    {
     "name": "stdout",
     "output_type": "stream",
     "text": [
      "http://web.simmons.edu/~grovesd/comm244/notes/week3/html-test-page.html\n",
      "\thttp://web.simmons.edu/~grovesd/comm244/notes/week3/css-linking#internal\n",
      "\t\thttp://web.simmons.edu/~grovesd/comm244/week3\n",
      "\t\thttp://web.simmons.edu/~grovesd/comm244/notes/week3/css-linking#external\n",
      "\t\thttp://web.simmons.edu/~grovesd/comm244/notes/week3/css-linking#inline\n",
      "\t\thttp://web.simmons.edu/~grovesd/comm244/week3\n",
      "\thttp://web.simmons.edu/~grovesd/comm244\n",
      "\t\thttp://web.simmons.edu/~grovesd/comm244/\n",
      "\t\thttp://web.simmons.edu/~grovesd/comm244-syllabus2019.pdf\n",
      "\t\thttp://web.simmons.edu/~grovesd/week1\n",
      "\t\thttp://web.simmons.edu/~grovesd/week2\n",
      "\t\thttp://web.simmons.edu/~grovesd/week3\n",
      "\t\thttp://web.simmons.edu/~grovesd/week5\n",
      "\t\thttp://web.simmons.edu/~grovesd/week5\n",
      "\t\thttp://web.simmons.edu/~grovesd/week6\n",
      "\t\thttp://web.simmons.edu/~grovesd/week7\n",
      "\t\thttp://web.simmons.edu/~grovesd/week8\n",
      "\t\thttp://web.simmons.edu/~grovesd/week9\n",
      "\t\thttp://web.simmons.edu/~grovesd/week10\n",
      "\t\thttp://web.simmons.edu/~grovesd/week11\n",
      "\t\thttp://web.simmons.edu/~grovesd/week12\n",
      "\t\thttp://web.simmons.edu/~grovesd/week13\n",
      "\t\thttp://web.simmons.edu/~grovesd/week14\n",
      "\t\thttp://web.simmons.edu/~grovesd/comm244/week1\n",
      "\t\thttp://web.simmons.edu/~grovesd/comm244/week2\n",
      "\t\thttp://web.simmons.edu/~grovesd/comm244/week3\n",
      "\t\thttp://web.simmons.edu/~grovesd/comm244/week4\n",
      "\t\thttp://web.simmons.edu/~grovesd/comm244/week5\n",
      "\t\thttp://web.simmons.edu/~grovesd/comm244/week6\n",
      "\t\thttp://web.simmons.edu/~grovesd/comm244/week7\n",
      "\t\thttp://web.simmons.edu/~grovesd/comm244/week8\n",
      "\t\thttp://web.simmons.edu/~grovesd/comm244/week9\n",
      "\t\thttp://web.simmons.edu/~grovesd/comm244/week10\n",
      "\t\thttp://web.simmons.edu/~grovesd/comm244/week11\n",
      "\t\thttp://web.simmons.edu/~grovesd/comm244/week12\n",
      "\t\thttp://web.simmons.edu/~grovesd/comm244/week13\n",
      "\t\thttp://web.simmons.edu/~grovesd/comm244/recipebook\n",
      "\t\thttp://web.simmons.edu/~grovesd/comm244/story\n",
      "\t\thttp://web.simmons.edu/~grovesd/comm244/final\n",
      "\thttp://web.simmons.edu/~grovesd/comm244/week3\n",
      "\t\thttp://web.simmons.edu/~grovesd/comm244/\n",
      "\t\thttp://web.simmons.edu/~grovesd/comm244/notes/week3/textmate-shortcuts\n",
      "\t\thttp://web.simmons.edu/~grovesd/comm244/notes/week3/comm244-week3.pdf\n",
      "\t\thttp://web.simmons.edu/~grovesd/comm244/notes/week3/navigation\n",
      "\t\thttp://web.simmons.edu/~grovesd/comm244/notes/week3/structural-elements\n",
      "\t\thttp://validator.w3.org/\n",
      "\t\thttp://validator.nu/\n",
      "\t\thttp://web.simmons.edu/~grovesd/comm244/notes/week3/css-linking\n",
      "\t\thttp://web.simmons.edu/~grovesd/comm244/notes/week3/css-basics\n",
      "\t\thttp://web.simmons.edu/~grovesd/comm244/notes/week3/css-basic-properties\n",
      "\t\thttp://web.simmons.edu/~grovesd/comm244/notes/week3/css-colors\n",
      "\t\thttp://web.simmons.edu/~grovesd/comm244/notes/week3/css-picking-colors\n",
      "\t\thttps://drive.google.com/file/d/0B6I5Ldm8Lgz-Y2RCNzRVVW1xSlE/view?usp=sharing\n",
      "\t\thttps://developer.mozilla.org/en-US/docs/Learn/CSS/Introduction_to_CSS/How_CSS_works\n",
      "\t\thttps://developer.mozilla.org/en-US/docs/Learn/CSS/Introduction_to_CSS/Syntax\n",
      "\t\thttps://developer.mozilla.org/en-US/docs/Learn/CSS/Introduction_to_CSS/Selectors\n",
      "\t\thttps://developer.mozilla.org/en-US/docs/Learn/CSS/Introduction_to_CSS/Simple_selectors\n",
      "\t\thttp://www.w3schools.com/css/css_howto.asp\n",
      "\t\thttp://www.w3schools.com/css/css_text.asp\n",
      "\t\thttp://www.w3schools.com/css/css_list.asp\n",
      "\t\thttp://www.w3schools.com/css/css_border.asp\n",
      "\t\thttp://www.w3schools.com/css/css_font.asp\n",
      "\t\thttp://web.simmons.edu/~grovesd/comm244/notes/week3/css-basic-properties\n",
      "\t\thttp://web.simmons.edu/~grovesd/comm244/class/\n",
      "\t\thttps://drive.google.com/file/d/0B6I5Ldm8Lgz-Y2RCNzRVVW1xSlE/view?usp=sharing\n",
      "\t\thttp://web.simmons.edu/~grovesd/comm244/week1\n",
      "\t\thttp://web.simmons.edu/~grovesd/comm244/week2\n",
      "\t\thttp://web.simmons.edu/~grovesd/comm244/week4\n",
      "\t\thttp://web.simmons.edu/~grovesd/comm244/week5\n",
      "\t\thttp://web.simmons.edu/~grovesd/comm244/week6\n",
      "\t\thttp://web.simmons.edu/~grovesd/comm244/week7\n",
      "\t\thttp://web.simmons.edu/~grovesd/comm244/week8\n",
      "\t\thttp://web.simmons.edu/~grovesd/comm244/week9\n",
      "\t\thttp://web.simmons.edu/~grovesd/comm244/week10\n",
      "\t\thttp://web.simmons.edu/~grovesd/comm244/week11\n",
      "\t\thttp://web.simmons.edu/~grovesd/comm244/week12\n",
      "\t\thttp://web.simmons.edu/~grovesd/comm244/week13\n",
      "\t\thttp://web.simmons.edu/~grovesd/comm244/recipebook\n",
      "\t\thttp://web.simmons.edu/~grovesd/comm244/story\n",
      "\t\thttp://web.simmons.edu/~grovesd/comm244/final\n"
     ]
    }
   ],
   "source": [
    "webdir('http://web.simmons.edu/~grovesd/comm244/notes/week3/html-test-page.html',2,0)"
   ]
  },
  {
   "cell_type": "markdown",
   "id": "987b50e3",
   "metadata": {},
   "source": [
    "# Question-8"
   ]
  },
  {
   "cell_type": "code",
   "execution_count": 47,
   "id": "dc918534",
   "metadata": {},
   "outputs": [],
   "source": [
    "import sqlite3"
   ]
  },
  {
   "cell_type": "code",
   "execution_count": 48,
   "id": "16be807c",
   "metadata": {},
   "outputs": [],
   "source": [
    "con=sqlite3.connect('ClimateDb.db')\n",
    "cur=con.cursor()"
   ]
  },
  {
   "cell_type": "code",
   "execution_count": 50,
   "id": "15ff7c7e",
   "metadata": {},
   "outputs": [
    {
     "data": {
      "text/plain": [
       "<sqlite3.Cursor at 0x7f9d41c90960>"
      ]
     },
     "execution_count": 50,
     "metadata": {},
     "output_type": "execute_result"
    }
   ],
   "source": [
    "cur.execute(\"CREATE TABLE Climates (City text, Country text, Season text, Temperature float, Rainfall float)\")"
   ]
  },
  {
   "cell_type": "code",
   "execution_count": 51,
   "id": "10d6209f",
   "metadata": {},
   "outputs": [
    {
     "data": {
      "text/plain": [
       "<sqlite3.Cursor at 0x7f9d41c90960>"
      ]
     },
     "execution_count": 51,
     "metadata": {},
     "output_type": "execute_result"
    }
   ],
   "source": [
    "cur.execute(\"INSERT INTO Climate VALUES ('Mumbai', 'India', 'Winter', 24.8, 5.9)\")\n",
    "cur.execute(\"INSERT INTO Climate VALUES ('Mumbai', 'India', 'Spring', 28.4, 16.2)\")\n",
    "cur.execute(\"INSERT INTO Climate VALUES ('Mumbai', 'India', 'Summer', 27.9, 1549.4)\")\n",
    "cur.execute(\"INSERT INTO Climate VALUES ('Mumbai', 'India', 'Fall', 27.6, 346.0)\")\n",
    "cur.execute(\"INSERT INTO Climate VALUES ('London', 'United Kingdom', 'Winter', 4.2, 207.7)\")\n",
    "cur.execute(\"INSERT INTO Climate VALUES ('London', 'United Kingdom', 'Spring', 8.3, 169.6)\")\n",
    "cur.execute(\"INSERT INTO Climate VALUES ('London', 'United Kingdom', 'Summer', 15.7, 157.0)\")\n",
    "cur.execute(\"INSERT INTO Climate VALUES ('London', 'United Kingdom', 'Fall', 10.4, 218.5)\")\n",
    "cur.execute(\"INSERT INTO Climate VALUES ('Cairo', 'Egypt', 'Winter', 13.6, 16.5)\")\n",
    "cur.execute(\"INSERT INTO Climate VALUES ('Cairo', 'Egypt', 'Spring', 20.7, 6.5)\")\n",
    "cur.execute(\"INSERT INTO Climate VALUES ('Cairo', 'Egypt', 'Summer', 27.7, 0.1)\")\n",
    "cur.execute(\"INSERT INTO Climate VALUES ('Cairo', 'Egypt', 'Fall', 22.2, 4.5)\")"
   ]
  },
  {
   "cell_type": "code",
   "execution_count": 52,
   "id": "1a69d5ca",
   "metadata": {},
   "outputs": [
    {
     "name": "stdout",
     "output_type": "stream",
     "text": [
      "('Mumbai', 'India', 'Winter', 24.8, 5.9)\n",
      "('Mumbai', 'India', 'Spring', 28.4, 16.2)\n",
      "('Mumbai', 'India', 'Summer', 27.9, 1549.4)\n",
      "('Mumbai', 'India', 'Fall', 27.6, 346.0)\n",
      "('London', 'United Kingdom', 'Winter', 4.2, 207.7)\n",
      "('London', 'United Kingdom', 'Spring', 8.3, 169.6)\n",
      "('London', 'United Kingdom', 'Summer', 15.7, 157.0)\n",
      "('London', 'United Kingdom', 'Fall', 10.4, 218.5)\n",
      "('Cairo', 'Egypt', 'Winter', 13.6, 16.5)\n",
      "('Cairo', 'Egypt', 'Spring', 20.7, 6.5)\n",
      "('Cairo', 'Egypt', 'Summer', 27.7, 0.1)\n",
      "('Cairo', 'Egypt', 'Fall', 22.2, 4.5)\n"
     ]
    }
   ],
   "source": [
    "cur.execute(\"SELECT * FROM Climate\")\n",
    "for i in cur:\n",
    "print (i)"
   ]
  },
  {
   "cell_type": "code",
   "execution_count": 53,
   "id": "df189858",
   "metadata": {},
   "outputs": [
    {
     "name": "stdout",
     "output_type": "stream",
     "text": [
      "24.8\n",
      "28.4\n",
      "27.9\n",
      "27.6\n",
      "4.2\n",
      "8.3\n",
      "15.7\n",
      "10.4\n",
      "13.6\n",
      "20.7\n",
      "27.7\n",
      "22.2\n"
     ]
    }
   ],
   "source": [
    "#Question-8a\n",
    "cur.execute(\"SELECT Temperature FROM Climate\")\n",
    "for i in cur:\n",
    "    print (i[0])"
   ]
  },
  {
   "cell_type": "code",
   "execution_count": 54,
   "id": "7d012d35",
   "metadata": {},
   "outputs": [
    {
     "name": "stdout",
     "output_type": "stream",
     "text": [
      "Mumbai\n",
      "London\n",
      "Cairo\n"
     ]
    }
   ],
   "source": [
    "#Question-8b\n",
    "cur.execute(\"SELECT DISTINCT(City) FROM Climate\")\n",
    "for i in cur:\n",
    "    print (i[0])"
   ]
  },
  {
   "cell_type": "code",
   "execution_count": 58,
   "id": "b4e17a8a",
   "metadata": {},
   "outputs": [
    {
     "name": "stdout",
     "output_type": "stream",
     "text": [
      "('Mumbai', 'India', 'Fall', 27.6, 346.0)\n",
      "('London', 'United Kingdom', 'Fall', 10.4, 218.5)\n",
      "('Cairo', 'Egypt', 'Fall', 22.2, 4.5)\n"
     ]
    }
   ],
   "source": [
    "#Question-8c\n",
    "cur.execute(\"SELECT * FROM Climate WHERE Season='Fall'\")\n",
    "for i in cur:\n",
    "    print (i)"
   ]
  },
  {
   "cell_type": "code",
   "execution_count": 62,
   "id": "d324db22",
   "metadata": {},
   "outputs": [
    {
     "name": "stdout",
     "output_type": "stream",
     "text": [
      "('Mumbai', 'India', 'Fall', 27.6, 346.0)\n",
      "('London', 'United Kingdom', 'Fall', 10.4, 218.5)\n",
      "('Cairo', 'Egypt', 'Fall', 22.2, 4.5)\n"
     ]
    }
   ],
   "source": [
    "#Question-8d\n",
    "cur.execute(\"SELECT * FROM Climate WHERE Season='Fall'\")\n",
    "for i in cur:\n",
    "    print (i)"
   ]
  },
  {
   "cell_type": "code",
   "execution_count": 63,
   "id": "527abdde",
   "metadata": {},
   "outputs": [
    {
     "name": "stdout",
     "output_type": "stream",
     "text": [
      "('Mumbai', 'India', 'Fall')\n",
      "('London', 'United Kingdom', 'Winter')\n",
      "('London', 'United Kingdom', 'Fall')\n"
     ]
    }
   ],
   "source": [
    "#Question-8e\n",
    "cur.execute(\"SELECT City,Country,Season FROM Climate WHERE Rainfall>=200 AND Rainfall<=400\")\n",
    "for i in cur:\n",
    "    print (i)"
   ]
  },
  {
   "cell_type": "code",
   "execution_count": 64,
   "id": "9f3accfe",
   "metadata": {},
   "outputs": [
    {
     "name": "stdout",
     "output_type": "stream",
     "text": [
      "('Cairo', 'Egypt')\n",
      "('Mumbai', 'India')\n"
     ]
    }
   ],
   "source": [
    "#Question-8f\n",
    "cur.execute(\"SELECT city, country FROM Climate WHERE Season='Fall' AND temperature>20 ORDER BY Temperature\")\n",
    "for i in cur:\n",
    "    print (i)"
   ]
  },
  {
   "cell_type": "code",
   "execution_count": 65,
   "id": "540e25fd",
   "metadata": {},
   "outputs": [
    {
     "name": "stdout",
     "output_type": "stream",
     "text": [
      "27.6\n"
     ]
    }
   ],
   "source": [
    "#Question-8g\n",
    "cur.execute(\"SELECT sum(Rainfall) FROM Climate WHERE City = 'Cairo'\")\n",
    "for i in cur:\n",
    "    print (i[0])"
   ]
  },
  {
   "cell_type": "code",
   "execution_count": 66,
   "id": "5cdb291d",
   "metadata": {},
   "outputs": [
    {
     "name": "stdout",
     "output_type": "stream",
     "text": [
      "('Fall', 569.0)\n",
      "('Spring', 192.3)\n",
      "('Summer', 1706.5)\n",
      "('Winter', 230.1)\n"
     ]
    }
   ],
   "source": [
    "#Qustion-8h\n",
    "cur.execute(\"SELECT season, round(sum(Rainfall),2) FROM Climate GROUP BY Season\")\n",
    "for i in cur:\n",
    "    print (i)"
   ]
  },
  {
   "cell_type": "markdown",
   "id": "744fd077",
   "metadata": {},
   "source": [
    "# Question-9"
   ]
  },
  {
   "cell_type": "code",
   "execution_count": 68,
   "id": "7719ae04",
   "metadata": {},
   "outputs": [
    {
     "name": "stdout",
     "output_type": "stream",
     "text": [
      "['THE', 'QUICK', 'BROWN', 'FOX', 'JUMPS', 'OVER', 'THE', 'LAZY', 'DOG']\n",
      "['the', 'quick', 'brown', 'fox', 'jumps', 'over', 'the', 'lazy', 'dog']\n",
      "[3, 5, 5, 3, 5, 4, 3, 4, 3]\n",
      "[['THE', 'the', 3], ['QUICK', 'quick', 5], ['BROWN', 'brown', 5], ['FOX', 'fox', 3], ['JUMPS', 'jumps', 5], ['OVER', 'over', 4], ['THE', 'the', 3], ['LAZY', 'lazy', 4], ['DOG', 'dog', 3]]\n",
      "['quick', 'brown', 'jumps', 'over', 'lazy']\n"
     ]
    }
   ],
   "source": [
    "words = ['The', 'quick', 'brown', 'fox', 'jumps', 'over',\n",
    "'the', 'lazy', 'dog']\n",
    "newlist = [x.upper() for x in words]\n",
    "print(newlist)\n",
    "\n",
    "newlist = [x.lower() for x in words]\n",
    "print(newlist)\n",
    "\n",
    "newlist = [len(x) for x in words]\n",
    "print(newlist)\n",
    "\n",
    "newlist = [[x.upper(),x.lower(),len(x)] for x in words]\n",
    "print(newlist)\n",
    "\n",
    "newlist = [x for x in words if len(x)>=4]\n",
    "print(newlist)"
   ]
  },
  {
   "cell_type": "code",
   "execution_count": null,
   "id": "39ea95fd",
   "metadata": {},
   "outputs": [],
   "source": []
  }
 ],
 "metadata": {
  "kernelspec": {
   "display_name": "Python 3 (ipykernel)",
   "language": "python",
   "name": "python3"
  },
  "language_info": {
   "codemirror_mode": {
    "name": "ipython",
    "version": 3
   },
   "file_extension": ".py",
   "mimetype": "text/x-python",
   "name": "python",
   "nbconvert_exporter": "python",
   "pygments_lexer": "ipython3",
   "version": "3.9.13"
  }
 },
 "nbformat": 4,
 "nbformat_minor": 5
}
